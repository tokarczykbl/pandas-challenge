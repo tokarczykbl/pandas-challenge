{
 "cells": [
  {
   "attachments": {},
   "cell_type": "markdown",
   "metadata": {},
   "source": [
    "# PyCity Schools Analysis\n",
    "\n",
    "- Your analysis here\n",
    "  \n",
    "---"
   ]
  },
  {
   "cell_type": "code",
   "execution_count": 3,
   "metadata": {},
   "outputs": [
    {
     "data": {
      "text/html": [
       "<div>\n",
       "<style scoped>\n",
       "    .dataframe tbody tr th:only-of-type {\n",
       "        vertical-align: middle;\n",
       "    }\n",
       "\n",
       "    .dataframe tbody tr th {\n",
       "        vertical-align: top;\n",
       "    }\n",
       "\n",
       "    .dataframe thead th {\n",
       "        text-align: right;\n",
       "    }\n",
       "</style>\n",
       "<table border=\"1\" class=\"dataframe\">\n",
       "  <thead>\n",
       "    <tr style=\"text-align: right;\">\n",
       "      <th></th>\n",
       "      <th>Student ID</th>\n",
       "      <th>student_name</th>\n",
       "      <th>gender</th>\n",
       "      <th>grade</th>\n",
       "      <th>school_name</th>\n",
       "      <th>reading_score</th>\n",
       "      <th>math_score</th>\n",
       "      <th>School ID</th>\n",
       "      <th>type</th>\n",
       "      <th>size</th>\n",
       "      <th>budget</th>\n",
       "    </tr>\n",
       "  </thead>\n",
       "  <tbody>\n",
       "    <tr>\n",
       "      <th>0</th>\n",
       "      <td>0</td>\n",
       "      <td>Paul Bradley</td>\n",
       "      <td>M</td>\n",
       "      <td>9th</td>\n",
       "      <td>Huang High School</td>\n",
       "      <td>66</td>\n",
       "      <td>79</td>\n",
       "      <td>0</td>\n",
       "      <td>District</td>\n",
       "      <td>2917</td>\n",
       "      <td>1910635</td>\n",
       "    </tr>\n",
       "    <tr>\n",
       "      <th>1</th>\n",
       "      <td>1</td>\n",
       "      <td>Victor Smith</td>\n",
       "      <td>M</td>\n",
       "      <td>12th</td>\n",
       "      <td>Huang High School</td>\n",
       "      <td>94</td>\n",
       "      <td>61</td>\n",
       "      <td>0</td>\n",
       "      <td>District</td>\n",
       "      <td>2917</td>\n",
       "      <td>1910635</td>\n",
       "    </tr>\n",
       "    <tr>\n",
       "      <th>2</th>\n",
       "      <td>2</td>\n",
       "      <td>Kevin Rodriguez</td>\n",
       "      <td>M</td>\n",
       "      <td>12th</td>\n",
       "      <td>Huang High School</td>\n",
       "      <td>90</td>\n",
       "      <td>60</td>\n",
       "      <td>0</td>\n",
       "      <td>District</td>\n",
       "      <td>2917</td>\n",
       "      <td>1910635</td>\n",
       "    </tr>\n",
       "    <tr>\n",
       "      <th>3</th>\n",
       "      <td>3</td>\n",
       "      <td>Dr. Richard Scott</td>\n",
       "      <td>M</td>\n",
       "      <td>12th</td>\n",
       "      <td>Huang High School</td>\n",
       "      <td>67</td>\n",
       "      <td>58</td>\n",
       "      <td>0</td>\n",
       "      <td>District</td>\n",
       "      <td>2917</td>\n",
       "      <td>1910635</td>\n",
       "    </tr>\n",
       "    <tr>\n",
       "      <th>4</th>\n",
       "      <td>4</td>\n",
       "      <td>Bonnie Ray</td>\n",
       "      <td>F</td>\n",
       "      <td>9th</td>\n",
       "      <td>Huang High School</td>\n",
       "      <td>97</td>\n",
       "      <td>84</td>\n",
       "      <td>0</td>\n",
       "      <td>District</td>\n",
       "      <td>2917</td>\n",
       "      <td>1910635</td>\n",
       "    </tr>\n",
       "  </tbody>\n",
       "</table>\n",
       "</div>"
      ],
      "text/plain": [
       "   Student ID       student_name gender grade        school_name  \\\n",
       "0           0       Paul Bradley      M   9th  Huang High School   \n",
       "1           1       Victor Smith      M  12th  Huang High School   \n",
       "2           2    Kevin Rodriguez      M  12th  Huang High School   \n",
       "3           3  Dr. Richard Scott      M  12th  Huang High School   \n",
       "4           4         Bonnie Ray      F   9th  Huang High School   \n",
       "\n",
       "   reading_score  math_score  School ID      type  size   budget  \n",
       "0             66          79          0  District  2917  1910635  \n",
       "1             94          61          0  District  2917  1910635  \n",
       "2             90          60          0  District  2917  1910635  \n",
       "3             67          58          0  District  2917  1910635  \n",
       "4             97          84          0  District  2917  1910635  "
      ]
     },
     "execution_count": 3,
     "metadata": {},
     "output_type": "execute_result"
    }
   ],
   "source": [
    "# Dependencies and Setup\n",
    "import pandas as pd\n",
    "from pathlib import Path\n",
    "\n",
    "# File to Load (Remember to Change These)\n",
    "school_data_to_load = Path(\"Resources/schools_complete.csv\")\n",
    "student_data_to_load = Path(\"Resources/students_complete.csv\")\n",
    "\n",
    "# Read School and Student Data File and store into Pandas DataFrames\n",
    "school_data = pd.read_csv(school_data_to_load)\n",
    "student_data = pd.read_csv(student_data_to_load)\n",
    "\n",
    "# Combine the data into a single dataset.  \n",
    "school_data_complete = pd.merge(student_data, school_data, how=\"left\", on=[\"school_name\", \"school_name\"])\n",
    "school_data_complete.head()"
   ]
  },
  {
   "cell_type": "markdown",
   "metadata": {},
   "source": [
    "## District Summary"
   ]
  },
  {
   "cell_type": "code",
   "execution_count": 4,
   "metadata": {},
   "outputs": [
    {
     "data": {
      "text/plain": [
       "15"
      ]
     },
     "execution_count": 4,
     "metadata": {},
     "output_type": "execute_result"
    }
   ],
   "source": [
    "# Calculate the total number of unique schools\n",
    "school_count = len(school_data_complete['school_name'].unique())\n",
    "school_count"
   ]
  },
  {
   "cell_type": "code",
   "execution_count": 5,
   "metadata": {},
   "outputs": [
    {
     "data": {
      "text/plain": [
       "39170"
      ]
     },
     "execution_count": 5,
     "metadata": {},
     "output_type": "execute_result"
    }
   ],
   "source": [
    "# Calculate the total number of students\n",
    "student_count = school_data_complete['student_name'].count()\n",
    "student_count"
   ]
  },
  {
   "cell_type": "code",
   "execution_count": 6,
   "metadata": {},
   "outputs": [
    {
     "data": {
      "text/plain": [
       "24649428"
      ]
     },
     "execution_count": 6,
     "metadata": {},
     "output_type": "execute_result"
    }
   ],
   "source": [
    "# Calculate the total budget\n",
    "total_budget =  school_data_complete['budget'].unique().sum()\n",
    "total_budget"
   ]
  },
  {
   "cell_type": "code",
   "execution_count": 7,
   "metadata": {},
   "outputs": [
    {
     "data": {
      "text/plain": [
       "78.98537145774827"
      ]
     },
     "execution_count": 7,
     "metadata": {},
     "output_type": "execute_result"
    }
   ],
   "source": [
    "# Calculate the average (mean) math score\n",
    "average_math_score = school_data_complete['math_score'].mean()\n",
    "average_math_score"
   ]
  },
  {
   "cell_type": "code",
   "execution_count": 8,
   "metadata": {},
   "outputs": [
    {
     "data": {
      "text/plain": [
       "81.87784018381414"
      ]
     },
     "execution_count": 8,
     "metadata": {},
     "output_type": "execute_result"
    }
   ],
   "source": [
    "# Calculate the average (mean) reading score\n",
    "average_reading_score = school_data_complete['reading_score'].mean()\n",
    "average_reading_score"
   ]
  },
  {
   "cell_type": "code",
   "execution_count": 9,
   "metadata": {},
   "outputs": [
    {
     "data": {
      "text/plain": [
       "74.9808526933878"
      ]
     },
     "execution_count": 9,
     "metadata": {},
     "output_type": "execute_result"
    }
   ],
   "source": [
    "# Use the following to calculate the percentage of students who passed math (math scores greather than or equal to 70)\n",
    "passing_math_count = school_data_complete[(school_data_complete[\"math_score\"] >= 70)].count()[\"student_name\"]\n",
    "passing_math_percentage = passing_math_count / float(student_count) * 100\n",
    "passing_math_percentage"
   ]
  },
  {
   "cell_type": "code",
   "execution_count": 10,
   "metadata": {},
   "outputs": [
    {
     "data": {
      "text/plain": [
       "85.80546336482001"
      ]
     },
     "execution_count": 10,
     "metadata": {},
     "output_type": "execute_result"
    }
   ],
   "source": [
    "# Calculate the percentage of students who passed reading (hint: look at how the math percentage was calculated)  \n",
    "passing_reading_count = school_data_complete[(school_data_complete[\"reading_score\"] >= 70)].count()[\"student_name\"]\n",
    "passing_reading_percentage = passing_reading_count / float(student_count) * 100\n",
    "passing_reading_percentage"
   ]
  },
  {
   "cell_type": "code",
   "execution_count": 11,
   "metadata": {},
   "outputs": [
    {
     "data": {
      "text/plain": [
       "65.17232575950983"
      ]
     },
     "execution_count": 11,
     "metadata": {},
     "output_type": "execute_result"
    }
   ],
   "source": [
    "# Use the following to calculate the percentage of students that passed math and reading\n",
    "passing_math_reading_count = school_data_complete[\n",
    "    (school_data_complete[\"math_score\"] >= 70) & (school_data_complete[\"reading_score\"] >= 70)\n",
    "].count()[\"student_name\"]\n",
    "overall_passing_rate = passing_math_reading_count /  float(student_count) * 100\n",
    "overall_passing_rate"
   ]
  },
  {
   "cell_type": "code",
   "execution_count": 12,
   "metadata": {},
   "outputs": [
    {
     "data": {
      "text/html": [
       "<div>\n",
       "<style scoped>\n",
       "    .dataframe tbody tr th:only-of-type {\n",
       "        vertical-align: middle;\n",
       "    }\n",
       "\n",
       "    .dataframe tbody tr th {\n",
       "        vertical-align: top;\n",
       "    }\n",
       "\n",
       "    .dataframe thead th {\n",
       "        text-align: right;\n",
       "    }\n",
       "</style>\n",
       "<table border=\"1\" class=\"dataframe\">\n",
       "  <thead>\n",
       "    <tr style=\"text-align: right;\">\n",
       "      <th></th>\n",
       "      <th>Total Schools</th>\n",
       "      <th>Total Students</th>\n",
       "      <th>Total Budget</th>\n",
       "      <th>Average Math Score</th>\n",
       "      <th>Average Reading Score</th>\n",
       "      <th>% Passing Math</th>\n",
       "      <th>% Passing Reading</th>\n",
       "      <th>% Overall Passing</th>\n",
       "    </tr>\n",
       "  </thead>\n",
       "  <tbody>\n",
       "    <tr>\n",
       "      <th>0</th>\n",
       "      <td>15</td>\n",
       "      <td>39,170</td>\n",
       "      <td>$24,649,428.00</td>\n",
       "      <td>78.985371</td>\n",
       "      <td>81.87784</td>\n",
       "      <td>74.980853</td>\n",
       "      <td>85.805463</td>\n",
       "      <td>65.172326</td>\n",
       "    </tr>\n",
       "  </tbody>\n",
       "</table>\n",
       "</div>"
      ],
      "text/plain": [
       "   Total Schools Total Students    Total Budget  Average Math Score  \\\n",
       "0             15         39,170  $24,649,428.00           78.985371   \n",
       "\n",
       "   Average Reading Score  % Passing Math  % Passing Reading  % Overall Passing  \n",
       "0               81.87784       74.980853          85.805463          65.172326  "
      ]
     },
     "execution_count": 12,
     "metadata": {},
     "output_type": "execute_result"
    }
   ],
   "source": [
    "# Create a high-level snapshot of the district's key metrics in a DataFrame\n",
    "district_summary = pd.DataFrame(\n",
    "    {'Total Schools':[school_count],\n",
    "     'Total Students':[student_count],\n",
    "     'Total Budget':[total_budget],\n",
    "     'Average Math Score':[average_math_score],\n",
    "     'Average Reading Score':[average_reading_score],\n",
    "     '% Passing Math':[passing_math_percentage],\n",
    "     '% Passing Reading':[passing_reading_percentage],\n",
    "     '% Overall Passing':[overall_passing_rate]\n",
    "    }\n",
    ")\n",
    "\n",
    "# Formatting\n",
    "district_summary[\"Total Students\"] = district_summary[\"Total Students\"].map(\"{:,}\".format)\n",
    "district_summary[\"Total Budget\"] = district_summary[\"Total Budget\"].map(\"${:,.2f}\".format)\n",
    "\n",
    "# Display the DataFrame\n",
    "district_summary"
   ]
  },
  {
   "cell_type": "markdown",
   "metadata": {},
   "source": [
    "## School Summary"
   ]
  },
  {
   "cell_type": "code",
   "execution_count": 13,
   "metadata": {},
   "outputs": [
    {
     "data": {
      "text/plain": [
       "school_name\n",
       "Huang High School        District\n",
       "Figueroa High School     District\n",
       "Shelton High School       Charter\n",
       "Hernandez High School    District\n",
       "Griffin High School       Charter\n",
       "Wilson High School        Charter\n",
       "Cabrera High School       Charter\n",
       "Bailey High School       District\n",
       "Holden High School        Charter\n",
       "Pena High School          Charter\n",
       "Wright High School        Charter\n",
       "Rodriguez High School    District\n",
       "Johnson High School      District\n",
       "Ford High School         District\n",
       "Thomas High School        Charter\n",
       "Name: type, dtype: object"
      ]
     },
     "execution_count": 13,
     "metadata": {},
     "output_type": "execute_result"
    }
   ],
   "source": [
    "# Use the code provided to select all of the school types\n",
    "school_types = school_data.set_index([\"school_name\"])[\"type\"]\n",
    "school_types"
   ]
  },
  {
   "cell_type": "code",
   "execution_count": 14,
   "metadata": {},
   "outputs": [
    {
     "data": {
      "text/plain": [
       "school_name\n",
       "Bailey High School       4976\n",
       "Johnson High School      4761\n",
       "Hernandez High School    4635\n",
       "Rodriguez High School    3999\n",
       "Figueroa High School     2949\n",
       "Huang High School        2917\n",
       "Ford High School         2739\n",
       "Wilson High School       2283\n",
       "Cabrera High School      1858\n",
       "Wright High School       1800\n",
       "Shelton High School      1761\n",
       "Thomas High School       1635\n",
       "Griffin High School      1468\n",
       "Pena High School          962\n",
       "Holden High School        427\n",
       "Name: count, dtype: int64"
      ]
     },
     "execution_count": 14,
     "metadata": {},
     "output_type": "execute_result"
    }
   ],
   "source": [
    "# Calculate the total student count per school\n",
    "per_school_counts = school_data_complete[\"school_name\"].value_counts()\n",
    "per_school_counts"
   ]
  },
  {
   "cell_type": "code",
   "execution_count": 18,
   "metadata": {},
   "outputs": [
    {
     "data": {
      "text/plain": [
       "school_name\n",
       "Bailey High School       628.0\n",
       "Cabrera High School      582.0\n",
       "Figueroa High School     639.0\n",
       "Ford High School         644.0\n",
       "Griffin High School      625.0\n",
       "Hernandez High School    652.0\n",
       "Holden High School       581.0\n",
       "Huang High School        655.0\n",
       "Johnson High School      650.0\n",
       "Pena High School         609.0\n",
       "Rodriguez High School    637.0\n",
       "Shelton High School      600.0\n",
       "Thomas High School       638.0\n",
       "Wilson High School       578.0\n",
       "Wright High School       583.0\n",
       "dtype: float64"
      ]
     },
     "execution_count": 18,
     "metadata": {},
     "output_type": "execute_result"
    }
   ],
   "source": [
    "# Calculate the total school budget and per capita spending per school\n",
    "per_school_budget = school_data.set_index([\"school_name\"])[\"budget\"]\n",
    "per_school_capita = per_school_budget / per_school_counts\n",
    "per_school_capita\n",
    "\n"
   ]
  },
  {
   "cell_type": "code",
   "execution_count": 29,
   "metadata": {},
   "outputs": [
    {
     "data": {
      "text/plain": [
       "school_name\n",
       "Bailey High School       81.033963\n",
       "Cabrera High School      83.975780\n",
       "Figueroa High School     81.158020\n",
       "Ford High School         80.746258\n",
       "Griffin High School      83.816757\n",
       "Hernandez High School    80.934412\n",
       "Holden High School       83.814988\n",
       "Huang High School        81.182722\n",
       "Johnson High School      80.966394\n",
       "Pena High School         84.044699\n",
       "Rodriguez High School    80.744686\n",
       "Shelton High School      83.725724\n",
       "Thomas High School       83.848930\n",
       "Wilson High School       83.989488\n",
       "Wright High School       83.955000\n",
       "Name: reading_score, dtype: float64"
      ]
     },
     "execution_count": 29,
     "metadata": {},
     "output_type": "execute_result"
    }
   ],
   "source": [
    "# Calculate the average test scores per school\n",
    "per_school_math = student_data.groupby(\"school_name\")[\"math_score\"].mean()\n",
    "per_school_reading = student_data.groupby(\"school_name\")[\"reading_score\"].mean()\n",
    "per_school_reading"
   ]
  },
  {
   "cell_type": "code",
   "execution_count": 58,
   "metadata": {},
   "outputs": [
    {
     "data": {
      "text/plain": [
       "school_name\n",
       "Bailey High School       3318\n",
       "Cabrera High School      1749\n",
       "Figueroa High School     1946\n",
       "Ford High School         1871\n",
       "Griffin High School      1371\n",
       "Hernandez High School    3094\n",
       "Holden High School        395\n",
       "Huang High School        1916\n",
       "Johnson High School      3145\n",
       "Pena High School          910\n",
       "Rodriguez High School    2654\n",
       "Shelton High School      1653\n",
       "Thomas High School       1525\n",
       "Wilson High School       2143\n",
       "Wright High School       1680\n",
       "dtype: int64"
      ]
     },
     "execution_count": 58,
     "metadata": {},
     "output_type": "execute_result"
    }
   ],
   "source": [
    "# Calculate the number of students per school with math scores of 70 or higher\n",
    "students_passing_math = (student_data[\"math_score\"] >= 70).sum()\n",
    "school_students_passing_math = (student_data.loc[student_data[\"math_score\"] >= 70]).groupby(\"school_name\").size()\n",
    "school_students_passing_math"
   ]
  },
  {
   "cell_type": "code",
   "execution_count": 60,
   "metadata": {},
   "outputs": [
    {
     "data": {
      "text/plain": [
       "school_name\n",
       "Bailey High School       4077\n",
       "Cabrera High School      1803\n",
       "Figueroa High School     2381\n",
       "Ford High School         2172\n",
       "Griffin High School      1426\n",
       "Hernandez High School    3748\n",
       "Holden High School        411\n",
       "Huang High School        2372\n",
       "Johnson High School      3867\n",
       "Pena High School          923\n",
       "Rodriguez High School    3208\n",
       "Shelton High School      1688\n",
       "Thomas High School       1591\n",
       "Wilson High School       2204\n",
       "Wright High School       1739\n",
       "dtype: int64"
      ]
     },
     "execution_count": 60,
     "metadata": {},
     "output_type": "execute_result"
    }
   ],
   "source": [
    "# Calculate the number of students per school with reading scores of 70 or higher\n",
    "students_passing_reading = (student_data[\"reading_score\"] >= 70).sum()\n",
    "school_students_passing_reading = (student_data.loc[student_data[\"reading_score\"] >= 70]).groupby(\"school_name\").size()\n",
    "school_students_passing_reading"
   ]
  },
  {
   "cell_type": "code",
   "execution_count": 67,
   "metadata": {},
   "outputs": [
    {
     "data": {
      "text/plain": [
       "school_name\n",
       "Bailey High School       2719\n",
       "Cabrera High School      1697\n",
       "Figueroa High School     1569\n",
       "Ford High School         1487\n",
       "Griffin High School      1330\n",
       "Hernandez High School    2481\n",
       "Holden High School        381\n",
       "Huang High School        1561\n",
       "Johnson High School      2549\n",
       "Pena High School          871\n",
       "Rodriguez High School    2119\n",
       "Shelton High School      1583\n",
       "Thomas High School       1487\n",
       "Wilson High School       2068\n",
       "Wright High School       1626\n",
       "dtype: int64"
      ]
     },
     "execution_count": 67,
     "metadata": {},
     "output_type": "execute_result"
    }
   ],
   "source": [
    "# Use the provided code to calculate the number of students per school that passed both math and reading with scores of 70 or higher\n",
    "students_passing_math_and_reading = school_data_complete[\n",
    "    (school_data_complete[\"reading_score\"] >= 70) & (school_data_complete[\"math_score\"] >= 70)\n",
    "]\n",
    "school_students_passing_math_and_reading = students_passing_math_and_reading.groupby([\"school_name\"]).size()\n",
    "school_students_passing_math_and_reading"
   ]
  },
  {
   "cell_type": "code",
   "execution_count": 70,
   "metadata": {},
   "outputs": [
    {
     "data": {
      "text/plain": [
       "school_name\n",
       "Bailey High School       54.642283\n",
       "Cabrera High School      91.334769\n",
       "Figueroa High School     53.204476\n",
       "Ford High School         54.289887\n",
       "Griffin High School      90.599455\n",
       "Hernandez High School    53.527508\n",
       "Holden High School       89.227166\n",
       "Huang High School        53.513884\n",
       "Johnson High School      53.539172\n",
       "Pena High School         90.540541\n",
       "Rodriguez High School    52.988247\n",
       "Shelton High School      89.892107\n",
       "Thomas High School       90.948012\n",
       "Wilson High School       90.582567\n",
       "Wright High School       90.333333\n",
       "dtype: float64"
      ]
     },
     "execution_count": 70,
     "metadata": {},
     "output_type": "execute_result"
    }
   ],
   "source": [
    "# Use the provided code to calculate the passing rates\n",
    "per_school_passing_math = school_students_passing_math / per_school_counts * 100\n",
    "per_school_passing_reading = school_students_passing_reading / per_school_counts * 100\n",
    "overall_passing_rate = school_students_passing_math_and_reading / per_school_counts * 100\n",
    "per_school_passing_math\n",
    "per_school_passing_reading\n",
    "overall_passing_rate"
   ]
  },
  {
   "cell_type": "code",
   "execution_count": 95,
   "metadata": {},
   "outputs": [
    {
     "data": {
      "text/html": [
       "<style type=\"text/css\">\n",
       "#T_ea876_row0_col0, #T_ea876_row0_col1, #T_ea876_row0_col4, #T_ea876_row0_col5, #T_ea876_row0_col6, #T_ea876_row0_col7, #T_ea876_row0_col8, #T_ea876_row1_col0, #T_ea876_row1_col1, #T_ea876_row1_col4, #T_ea876_row1_col5, #T_ea876_row1_col6, #T_ea876_row1_col7, #T_ea876_row1_col8, #T_ea876_row2_col0, #T_ea876_row2_col1, #T_ea876_row2_col4, #T_ea876_row2_col5, #T_ea876_row2_col6, #T_ea876_row2_col7, #T_ea876_row2_col8, #T_ea876_row3_col0, #T_ea876_row3_col1, #T_ea876_row3_col4, #T_ea876_row3_col5, #T_ea876_row3_col6, #T_ea876_row3_col7, #T_ea876_row3_col8, #T_ea876_row4_col0, #T_ea876_row4_col1, #T_ea876_row4_col4, #T_ea876_row4_col5, #T_ea876_row4_col6, #T_ea876_row4_col7, #T_ea876_row4_col8, #T_ea876_row5_col0, #T_ea876_row5_col1, #T_ea876_row5_col4, #T_ea876_row5_col5, #T_ea876_row5_col6, #T_ea876_row5_col7, #T_ea876_row5_col8, #T_ea876_row6_col0, #T_ea876_row6_col1, #T_ea876_row6_col4, #T_ea876_row6_col5, #T_ea876_row6_col6, #T_ea876_row6_col7, #T_ea876_row6_col8, #T_ea876_row7_col0, #T_ea876_row7_col1, #T_ea876_row7_col4, #T_ea876_row7_col5, #T_ea876_row7_col6, #T_ea876_row7_col7, #T_ea876_row7_col8, #T_ea876_row8_col0, #T_ea876_row8_col1, #T_ea876_row8_col4, #T_ea876_row8_col5, #T_ea876_row8_col6, #T_ea876_row8_col7, #T_ea876_row8_col8, #T_ea876_row9_col0, #T_ea876_row9_col1, #T_ea876_row9_col4, #T_ea876_row9_col5, #T_ea876_row9_col6, #T_ea876_row9_col7, #T_ea876_row9_col8, #T_ea876_row10_col0, #T_ea876_row10_col1, #T_ea876_row10_col4, #T_ea876_row10_col5, #T_ea876_row10_col6, #T_ea876_row10_col7, #T_ea876_row10_col8, #T_ea876_row11_col0, #T_ea876_row11_col1, #T_ea876_row11_col4, #T_ea876_row11_col5, #T_ea876_row11_col6, #T_ea876_row11_col7, #T_ea876_row11_col8, #T_ea876_row12_col0, #T_ea876_row12_col1, #T_ea876_row12_col4, #T_ea876_row12_col5, #T_ea876_row12_col6, #T_ea876_row12_col7, #T_ea876_row12_col8, #T_ea876_row13_col0, #T_ea876_row13_col1, #T_ea876_row13_col4, #T_ea876_row13_col5, #T_ea876_row13_col6, #T_ea876_row13_col7, #T_ea876_row13_col8, #T_ea876_row14_col0, #T_ea876_row14_col1, #T_ea876_row14_col4, #T_ea876_row14_col5, #T_ea876_row14_col6, #T_ea876_row14_col7, #T_ea876_row14_col8 {\n",
       "  text-align: center;\n",
       "}\n",
       "</style>\n",
       "<table id=\"T_ea876\">\n",
       "  <thead>\n",
       "    <tr>\n",
       "      <th class=\"blank level0\" >&nbsp;</th>\n",
       "      <th id=\"T_ea876_level0_col0\" class=\"col_heading level0 col0\" >School Type</th>\n",
       "      <th id=\"T_ea876_level0_col1\" class=\"col_heading level0 col1\" >Total Students</th>\n",
       "      <th id=\"T_ea876_level0_col2\" class=\"col_heading level0 col2\" >Total School Budget</th>\n",
       "      <th id=\"T_ea876_level0_col3\" class=\"col_heading level0 col3\" >Per Student Budget</th>\n",
       "      <th id=\"T_ea876_level0_col4\" class=\"col_heading level0 col4\" >Average Math Score</th>\n",
       "      <th id=\"T_ea876_level0_col5\" class=\"col_heading level0 col5\" >Average Reading Score</th>\n",
       "      <th id=\"T_ea876_level0_col6\" class=\"col_heading level0 col6\" >% Passing Math</th>\n",
       "      <th id=\"T_ea876_level0_col7\" class=\"col_heading level0 col7\" >% Passing Reading</th>\n",
       "      <th id=\"T_ea876_level0_col8\" class=\"col_heading level0 col8\" >% Overall Passing</th>\n",
       "    </tr>\n",
       "  </thead>\n",
       "  <tbody>\n",
       "    <tr>\n",
       "      <th id=\"T_ea876_level0_row0\" class=\"row_heading level0 row0\" >Bailey High School</th>\n",
       "      <td id=\"T_ea876_row0_col0\" class=\"data row0 col0\" >District</td>\n",
       "      <td id=\"T_ea876_row0_col1\" class=\"data row0 col1\" >4976</td>\n",
       "      <td id=\"T_ea876_row0_col2\" class=\"data row0 col2\" >$3,124,928.00</td>\n",
       "      <td id=\"T_ea876_row0_col3\" class=\"data row0 col3\" >$628.00</td>\n",
       "      <td id=\"T_ea876_row0_col4\" class=\"data row0 col4\" >77.05</td>\n",
       "      <td id=\"T_ea876_row0_col5\" class=\"data row0 col5\" >81.03</td>\n",
       "      <td id=\"T_ea876_row0_col6\" class=\"data row0 col6\" >66.68%</td>\n",
       "      <td id=\"T_ea876_row0_col7\" class=\"data row0 col7\" >81.93%</td>\n",
       "      <td id=\"T_ea876_row0_col8\" class=\"data row0 col8\" >54.64%</td>\n",
       "    </tr>\n",
       "    <tr>\n",
       "      <th id=\"T_ea876_level0_row1\" class=\"row_heading level0 row1\" >Cabrera High School</th>\n",
       "      <td id=\"T_ea876_row1_col0\" class=\"data row1 col0\" >Charter</td>\n",
       "      <td id=\"T_ea876_row1_col1\" class=\"data row1 col1\" >1858</td>\n",
       "      <td id=\"T_ea876_row1_col2\" class=\"data row1 col2\" >$1,081,356.00</td>\n",
       "      <td id=\"T_ea876_row1_col3\" class=\"data row1 col3\" >$582.00</td>\n",
       "      <td id=\"T_ea876_row1_col4\" class=\"data row1 col4\" >83.06</td>\n",
       "      <td id=\"T_ea876_row1_col5\" class=\"data row1 col5\" >83.98</td>\n",
       "      <td id=\"T_ea876_row1_col6\" class=\"data row1 col6\" >94.13%</td>\n",
       "      <td id=\"T_ea876_row1_col7\" class=\"data row1 col7\" >97.04%</td>\n",
       "      <td id=\"T_ea876_row1_col8\" class=\"data row1 col8\" >91.33%</td>\n",
       "    </tr>\n",
       "    <tr>\n",
       "      <th id=\"T_ea876_level0_row2\" class=\"row_heading level0 row2\" >Figueroa High School</th>\n",
       "      <td id=\"T_ea876_row2_col0\" class=\"data row2 col0\" >District</td>\n",
       "      <td id=\"T_ea876_row2_col1\" class=\"data row2 col1\" >2949</td>\n",
       "      <td id=\"T_ea876_row2_col2\" class=\"data row2 col2\" >$1,884,411.00</td>\n",
       "      <td id=\"T_ea876_row2_col3\" class=\"data row2 col3\" >$639.00</td>\n",
       "      <td id=\"T_ea876_row2_col4\" class=\"data row2 col4\" >76.71</td>\n",
       "      <td id=\"T_ea876_row2_col5\" class=\"data row2 col5\" >81.16</td>\n",
       "      <td id=\"T_ea876_row2_col6\" class=\"data row2 col6\" >65.99%</td>\n",
       "      <td id=\"T_ea876_row2_col7\" class=\"data row2 col7\" >80.74%</td>\n",
       "      <td id=\"T_ea876_row2_col8\" class=\"data row2 col8\" >53.20%</td>\n",
       "    </tr>\n",
       "    <tr>\n",
       "      <th id=\"T_ea876_level0_row3\" class=\"row_heading level0 row3\" >Ford High School</th>\n",
       "      <td id=\"T_ea876_row3_col0\" class=\"data row3 col0\" >District</td>\n",
       "      <td id=\"T_ea876_row3_col1\" class=\"data row3 col1\" >2739</td>\n",
       "      <td id=\"T_ea876_row3_col2\" class=\"data row3 col2\" >$1,763,916.00</td>\n",
       "      <td id=\"T_ea876_row3_col3\" class=\"data row3 col3\" >$644.00</td>\n",
       "      <td id=\"T_ea876_row3_col4\" class=\"data row3 col4\" >77.10</td>\n",
       "      <td id=\"T_ea876_row3_col5\" class=\"data row3 col5\" >80.75</td>\n",
       "      <td id=\"T_ea876_row3_col6\" class=\"data row3 col6\" >68.31%</td>\n",
       "      <td id=\"T_ea876_row3_col7\" class=\"data row3 col7\" >79.30%</td>\n",
       "      <td id=\"T_ea876_row3_col8\" class=\"data row3 col8\" >54.29%</td>\n",
       "    </tr>\n",
       "    <tr>\n",
       "      <th id=\"T_ea876_level0_row4\" class=\"row_heading level0 row4\" >Griffin High School</th>\n",
       "      <td id=\"T_ea876_row4_col0\" class=\"data row4 col0\" >Charter</td>\n",
       "      <td id=\"T_ea876_row4_col1\" class=\"data row4 col1\" >1468</td>\n",
       "      <td id=\"T_ea876_row4_col2\" class=\"data row4 col2\" >$917,500.00</td>\n",
       "      <td id=\"T_ea876_row4_col3\" class=\"data row4 col3\" >$625.00</td>\n",
       "      <td id=\"T_ea876_row4_col4\" class=\"data row4 col4\" >83.35</td>\n",
       "      <td id=\"T_ea876_row4_col5\" class=\"data row4 col5\" >83.82</td>\n",
       "      <td id=\"T_ea876_row4_col6\" class=\"data row4 col6\" >93.39%</td>\n",
       "      <td id=\"T_ea876_row4_col7\" class=\"data row4 col7\" >97.14%</td>\n",
       "      <td id=\"T_ea876_row4_col8\" class=\"data row4 col8\" >90.60%</td>\n",
       "    </tr>\n",
       "    <tr>\n",
       "      <th id=\"T_ea876_level0_row5\" class=\"row_heading level0 row5\" >Hernandez High School</th>\n",
       "      <td id=\"T_ea876_row5_col0\" class=\"data row5 col0\" >District</td>\n",
       "      <td id=\"T_ea876_row5_col1\" class=\"data row5 col1\" >4635</td>\n",
       "      <td id=\"T_ea876_row5_col2\" class=\"data row5 col2\" >$3,022,020.00</td>\n",
       "      <td id=\"T_ea876_row5_col3\" class=\"data row5 col3\" >$652.00</td>\n",
       "      <td id=\"T_ea876_row5_col4\" class=\"data row5 col4\" >77.29</td>\n",
       "      <td id=\"T_ea876_row5_col5\" class=\"data row5 col5\" >80.93</td>\n",
       "      <td id=\"T_ea876_row5_col6\" class=\"data row5 col6\" >66.75%</td>\n",
       "      <td id=\"T_ea876_row5_col7\" class=\"data row5 col7\" >80.86%</td>\n",
       "      <td id=\"T_ea876_row5_col8\" class=\"data row5 col8\" >53.53%</td>\n",
       "    </tr>\n",
       "    <tr>\n",
       "      <th id=\"T_ea876_level0_row6\" class=\"row_heading level0 row6\" >Holden High School</th>\n",
       "      <td id=\"T_ea876_row6_col0\" class=\"data row6 col0\" >Charter</td>\n",
       "      <td id=\"T_ea876_row6_col1\" class=\"data row6 col1\" >427</td>\n",
       "      <td id=\"T_ea876_row6_col2\" class=\"data row6 col2\" >$248,087.00</td>\n",
       "      <td id=\"T_ea876_row6_col3\" class=\"data row6 col3\" >$581.00</td>\n",
       "      <td id=\"T_ea876_row6_col4\" class=\"data row6 col4\" >83.80</td>\n",
       "      <td id=\"T_ea876_row6_col5\" class=\"data row6 col5\" >83.81</td>\n",
       "      <td id=\"T_ea876_row6_col6\" class=\"data row6 col6\" >92.51%</td>\n",
       "      <td id=\"T_ea876_row6_col7\" class=\"data row6 col7\" >96.25%</td>\n",
       "      <td id=\"T_ea876_row6_col8\" class=\"data row6 col8\" >89.23%</td>\n",
       "    </tr>\n",
       "    <tr>\n",
       "      <th id=\"T_ea876_level0_row7\" class=\"row_heading level0 row7\" >Huang High School</th>\n",
       "      <td id=\"T_ea876_row7_col0\" class=\"data row7 col0\" >District</td>\n",
       "      <td id=\"T_ea876_row7_col1\" class=\"data row7 col1\" >2917</td>\n",
       "      <td id=\"T_ea876_row7_col2\" class=\"data row7 col2\" >$1,910,635.00</td>\n",
       "      <td id=\"T_ea876_row7_col3\" class=\"data row7 col3\" >$655.00</td>\n",
       "      <td id=\"T_ea876_row7_col4\" class=\"data row7 col4\" >76.63</td>\n",
       "      <td id=\"T_ea876_row7_col5\" class=\"data row7 col5\" >81.18</td>\n",
       "      <td id=\"T_ea876_row7_col6\" class=\"data row7 col6\" >65.68%</td>\n",
       "      <td id=\"T_ea876_row7_col7\" class=\"data row7 col7\" >81.32%</td>\n",
       "      <td id=\"T_ea876_row7_col8\" class=\"data row7 col8\" >53.51%</td>\n",
       "    </tr>\n",
       "    <tr>\n",
       "      <th id=\"T_ea876_level0_row8\" class=\"row_heading level0 row8\" >Johnson High School</th>\n",
       "      <td id=\"T_ea876_row8_col0\" class=\"data row8 col0\" >District</td>\n",
       "      <td id=\"T_ea876_row8_col1\" class=\"data row8 col1\" >4761</td>\n",
       "      <td id=\"T_ea876_row8_col2\" class=\"data row8 col2\" >$3,094,650.00</td>\n",
       "      <td id=\"T_ea876_row8_col3\" class=\"data row8 col3\" >$650.00</td>\n",
       "      <td id=\"T_ea876_row8_col4\" class=\"data row8 col4\" >77.07</td>\n",
       "      <td id=\"T_ea876_row8_col5\" class=\"data row8 col5\" >80.97</td>\n",
       "      <td id=\"T_ea876_row8_col6\" class=\"data row8 col6\" >66.06%</td>\n",
       "      <td id=\"T_ea876_row8_col7\" class=\"data row8 col7\" >81.22%</td>\n",
       "      <td id=\"T_ea876_row8_col8\" class=\"data row8 col8\" >53.54%</td>\n",
       "    </tr>\n",
       "    <tr>\n",
       "      <th id=\"T_ea876_level0_row9\" class=\"row_heading level0 row9\" >Pena High School</th>\n",
       "      <td id=\"T_ea876_row9_col0\" class=\"data row9 col0\" >Charter</td>\n",
       "      <td id=\"T_ea876_row9_col1\" class=\"data row9 col1\" >962</td>\n",
       "      <td id=\"T_ea876_row9_col2\" class=\"data row9 col2\" >$585,858.00</td>\n",
       "      <td id=\"T_ea876_row9_col3\" class=\"data row9 col3\" >$609.00</td>\n",
       "      <td id=\"T_ea876_row9_col4\" class=\"data row9 col4\" >83.84</td>\n",
       "      <td id=\"T_ea876_row9_col5\" class=\"data row9 col5\" >84.04</td>\n",
       "      <td id=\"T_ea876_row9_col6\" class=\"data row9 col6\" >94.59%</td>\n",
       "      <td id=\"T_ea876_row9_col7\" class=\"data row9 col7\" >95.95%</td>\n",
       "      <td id=\"T_ea876_row9_col8\" class=\"data row9 col8\" >90.54%</td>\n",
       "    </tr>\n",
       "    <tr>\n",
       "      <th id=\"T_ea876_level0_row10\" class=\"row_heading level0 row10\" >Rodriguez High School</th>\n",
       "      <td id=\"T_ea876_row10_col0\" class=\"data row10 col0\" >District</td>\n",
       "      <td id=\"T_ea876_row10_col1\" class=\"data row10 col1\" >3999</td>\n",
       "      <td id=\"T_ea876_row10_col2\" class=\"data row10 col2\" >$2,547,363.00</td>\n",
       "      <td id=\"T_ea876_row10_col3\" class=\"data row10 col3\" >$637.00</td>\n",
       "      <td id=\"T_ea876_row10_col4\" class=\"data row10 col4\" >76.84</td>\n",
       "      <td id=\"T_ea876_row10_col5\" class=\"data row10 col5\" >80.74</td>\n",
       "      <td id=\"T_ea876_row10_col6\" class=\"data row10 col6\" >66.37%</td>\n",
       "      <td id=\"T_ea876_row10_col7\" class=\"data row10 col7\" >80.22%</td>\n",
       "      <td id=\"T_ea876_row10_col8\" class=\"data row10 col8\" >52.99%</td>\n",
       "    </tr>\n",
       "    <tr>\n",
       "      <th id=\"T_ea876_level0_row11\" class=\"row_heading level0 row11\" >Shelton High School</th>\n",
       "      <td id=\"T_ea876_row11_col0\" class=\"data row11 col0\" >Charter</td>\n",
       "      <td id=\"T_ea876_row11_col1\" class=\"data row11 col1\" >1761</td>\n",
       "      <td id=\"T_ea876_row11_col2\" class=\"data row11 col2\" >$1,056,600.00</td>\n",
       "      <td id=\"T_ea876_row11_col3\" class=\"data row11 col3\" >$600.00</td>\n",
       "      <td id=\"T_ea876_row11_col4\" class=\"data row11 col4\" >83.36</td>\n",
       "      <td id=\"T_ea876_row11_col5\" class=\"data row11 col5\" >83.73</td>\n",
       "      <td id=\"T_ea876_row11_col6\" class=\"data row11 col6\" >93.87%</td>\n",
       "      <td id=\"T_ea876_row11_col7\" class=\"data row11 col7\" >95.85%</td>\n",
       "      <td id=\"T_ea876_row11_col8\" class=\"data row11 col8\" >89.89%</td>\n",
       "    </tr>\n",
       "    <tr>\n",
       "      <th id=\"T_ea876_level0_row12\" class=\"row_heading level0 row12\" >Thomas High School</th>\n",
       "      <td id=\"T_ea876_row12_col0\" class=\"data row12 col0\" >Charter</td>\n",
       "      <td id=\"T_ea876_row12_col1\" class=\"data row12 col1\" >1635</td>\n",
       "      <td id=\"T_ea876_row12_col2\" class=\"data row12 col2\" >$1,043,130.00</td>\n",
       "      <td id=\"T_ea876_row12_col3\" class=\"data row12 col3\" >$638.00</td>\n",
       "      <td id=\"T_ea876_row12_col4\" class=\"data row12 col4\" >83.42</td>\n",
       "      <td id=\"T_ea876_row12_col5\" class=\"data row12 col5\" >83.85</td>\n",
       "      <td id=\"T_ea876_row12_col6\" class=\"data row12 col6\" >93.27%</td>\n",
       "      <td id=\"T_ea876_row12_col7\" class=\"data row12 col7\" >97.31%</td>\n",
       "      <td id=\"T_ea876_row12_col8\" class=\"data row12 col8\" >90.95%</td>\n",
       "    </tr>\n",
       "    <tr>\n",
       "      <th id=\"T_ea876_level0_row13\" class=\"row_heading level0 row13\" >Wilson High School</th>\n",
       "      <td id=\"T_ea876_row13_col0\" class=\"data row13 col0\" >Charter</td>\n",
       "      <td id=\"T_ea876_row13_col1\" class=\"data row13 col1\" >2283</td>\n",
       "      <td id=\"T_ea876_row13_col2\" class=\"data row13 col2\" >$1,319,574.00</td>\n",
       "      <td id=\"T_ea876_row13_col3\" class=\"data row13 col3\" >$578.00</td>\n",
       "      <td id=\"T_ea876_row13_col4\" class=\"data row13 col4\" >83.27</td>\n",
       "      <td id=\"T_ea876_row13_col5\" class=\"data row13 col5\" >83.99</td>\n",
       "      <td id=\"T_ea876_row13_col6\" class=\"data row13 col6\" >93.87%</td>\n",
       "      <td id=\"T_ea876_row13_col7\" class=\"data row13 col7\" >96.54%</td>\n",
       "      <td id=\"T_ea876_row13_col8\" class=\"data row13 col8\" >90.58%</td>\n",
       "    </tr>\n",
       "    <tr>\n",
       "      <th id=\"T_ea876_level0_row14\" class=\"row_heading level0 row14\" >Wright High School</th>\n",
       "      <td id=\"T_ea876_row14_col0\" class=\"data row14 col0\" >Charter</td>\n",
       "      <td id=\"T_ea876_row14_col1\" class=\"data row14 col1\" >1800</td>\n",
       "      <td id=\"T_ea876_row14_col2\" class=\"data row14 col2\" >$1,049,400.00</td>\n",
       "      <td id=\"T_ea876_row14_col3\" class=\"data row14 col3\" >$583.00</td>\n",
       "      <td id=\"T_ea876_row14_col4\" class=\"data row14 col4\" >83.68</td>\n",
       "      <td id=\"T_ea876_row14_col5\" class=\"data row14 col5\" >83.95</td>\n",
       "      <td id=\"T_ea876_row14_col6\" class=\"data row14 col6\" >93.33%</td>\n",
       "      <td id=\"T_ea876_row14_col7\" class=\"data row14 col7\" >96.61%</td>\n",
       "      <td id=\"T_ea876_row14_col8\" class=\"data row14 col8\" >90.33%</td>\n",
       "    </tr>\n",
       "  </tbody>\n",
       "</table>\n"
      ],
      "text/plain": [
       "<pandas.io.formats.style.Styler at 0x293b56d65f0>"
      ]
     },
     "execution_count": 95,
     "metadata": {},
     "output_type": "execute_result"
    }
   ],
   "source": [
    "# Create a DataFrame called `per_school_summary` with columns for the calculations above.\n",
    "per_school_summary = pd.concat([school_types,\n",
    "                                per_school_counts,\n",
    "                                per_school_budget,\n",
    "                                per_school_capita,\n",
    "                                per_school_math,\n",
    "                                per_school_reading,\n",
    "                                per_school_passing_math,\n",
    "                                per_school_passing_reading,\n",
    "                                overall_passing_rate],\n",
    "                                axis=1,\n",
    "                                keys=[\n",
    "                                \"School Type\",\n",
    "                                \"Total Students\",\n",
    "                                \"Total School Budget\",\n",
    "                                \"Per Student Budget\",\n",
    "                                \"Average Math Score\",\n",
    "                                \"Average Reading Score\",\n",
    "                                \"% Passing Math\",\n",
    "                                \"% Passing Reading\",\n",
    "                                \"% Overall Passing\",\n",
    "                               ]\n",
    "                               )\n",
    "\n",
    "# Formatting\n",
    "per_school_summary[\"Total School Budget\"] = per_school_summary[\"Total School Budget\"].map(\"${:,.2f}\".format)\n",
    "per_school_summary[\"Per Student Budget\"] = per_school_summary[\"Per Student Budget\"].map(\"${:,.2f}\".format)\n",
    "per_school_summary[\"Average Math Score\"] = per_school_summary[\"Average Math Score\"].map(\"{:,.2f}\".format)\n",
    "per_school_summary[\"Average Reading Score\"] = per_school_summary[\"Average Reading Score\"].map(\"{:,.2f}\".format)\n",
    "per_school_summary[\"% Passing Math\"] = per_school_summary[\"% Passing Math\"].map(\"{:,.2f}%\".format)\n",
    "per_school_summary[\"% Passing Reading\"] = per_school_summary[\"% Passing Reading\"].map(\"{:,.2f}%\".format)\n",
    "per_school_summary[\"% Overall Passing\"] = per_school_summary[\"% Overall Passing\"].map(\"{:,.2f}%\".format)\n",
    "\n",
    "# Remove the school name title from the index it looks awkward as a row of its own and also recipients should be aware of the field if reviewing the data\n",
    "per_school_summary.index.name= None\n",
    "\n",
    "# Sort by the index alphabetically\n",
    "per_school_summary = per_school_summary.sort_index()\n",
    "\n",
    "# Center columns that aren't in dollars\n",
    "columns_to_center_index = [0, 1, 4, 5, 6, 7, 8]\n",
    "per_school_summary = per_school_summary.style.applymap(lambda _: 'text-align: center;', subset=pd.IndexSlice[:, per_school_summary.columns[columns_to_center_index]])\n",
    "\n",
    "# Display the DataFrame\n",
    "per_school_summary"
   ]
  },
  {
   "cell_type": "markdown",
   "metadata": {},
   "source": [
    "## Highest-Performing Schools (by % Overall Passing)"
   ]
  },
  {
   "cell_type": "code",
   "execution_count": null,
   "metadata": {
    "scrolled": true
   },
   "outputs": [],
   "source": [
    "# Sort the schools by `% Overall Passing` in descending order and display the top 5 rows.\n",
    "top_schools = \n",
    "top_schools.head(5)"
   ]
  },
  {
   "cell_type": "markdown",
   "metadata": {},
   "source": [
    "## Bottom Performing Schools (By % Overall Passing)"
   ]
  },
  {
   "cell_type": "code",
   "execution_count": null,
   "metadata": {},
   "outputs": [],
   "source": [
    "# Sort the schools by `% Overall Passing` in ascending order and display the top 5 rows.\n",
    "bottom_schools = \n",
    "bottom_schools.head(5)"
   ]
  },
  {
   "cell_type": "markdown",
   "metadata": {},
   "source": [
    "## Math Scores by Grade"
   ]
  },
  {
   "cell_type": "code",
   "execution_count": null,
   "metadata": {},
   "outputs": [],
   "source": [
    "# Use the code provided to separate the data by grade\n",
    "ninth_graders = school_data_complete[(school_data_complete[\"grade\"] == \"9th\")]\n",
    "tenth_graders = school_data_complete[(school_data_complete[\"grade\"] == \"10th\")]\n",
    "eleventh_graders = school_data_complete[(school_data_complete[\"grade\"] == \"11th\")]\n",
    "twelfth_graders = school_data_complete[(school_data_complete[\"grade\"] == \"12th\")]\n",
    "\n",
    "# Group by `school_name` and take the mean of the `math_score` column for each.\n",
    "ninth_grade_math_scores = \n",
    "tenth_grader_math_scores = \n",
    "eleventh_grader_math_scores = \n",
    "twelfth_grader_math_scores = \n",
    "\n",
    "# Combine each of the scores above into single DataFrame called `math_scores_by_grade`\n",
    "math_scores_by_grade = \n",
    "\n",
    "# Minor data wrangling\n",
    "math_scores_by_grade.index.name = None\n",
    "\n",
    "# Display the DataFrame\n",
    "math_scores_by_grade"
   ]
  },
  {
   "cell_type": "markdown",
   "metadata": {},
   "source": [
    "## Reading Score by Grade "
   ]
  },
  {
   "cell_type": "code",
   "execution_count": null,
   "metadata": {},
   "outputs": [],
   "source": [
    "# Use the code provided to separate the data by grade\n",
    "ninth_graders = school_data_complete[(school_data_complete[\"grade\"] == \"9th\")]\n",
    "tenth_graders = school_data_complete[(school_data_complete[\"grade\"] == \"10th\")]\n",
    "eleventh_graders = school_data_complete[(school_data_complete[\"grade\"] == \"11th\")]\n",
    "twelfth_graders = school_data_complete[(school_data_complete[\"grade\"] == \"12th\")]\n",
    "\n",
    "# Group by `school_name` and take the mean of the the `reading_score` column for each.\n",
    "ninth_grade_reading_scores = \n",
    "tenth_grader_reading_scores = \n",
    "eleventh_grader_reading_scores = \n",
    "twelfth_grader_reading_scores = \n",
    "\n",
    "# Combine each of the scores above into single DataFrame called `reading_scores_by_grade`\n",
    "reading_scores_by_grade = \n",
    "\n",
    "# Minor data wrangling\n",
    "reading_scores_by_grade = reading_scores_by_grade[[\"9th\", \"10th\", \"11th\", \"12th\"]]\n",
    "reading_scores_by_grade.index.name = None\n",
    "\n",
    "# Display the DataFrame\n",
    "reading_scores_by_grade"
   ]
  },
  {
   "cell_type": "markdown",
   "metadata": {},
   "source": [
    "## Scores by School Spending"
   ]
  },
  {
   "cell_type": "code",
   "execution_count": null,
   "metadata": {},
   "outputs": [],
   "source": [
    "# Establish the bins \n",
    "spending_bins = [0, 585, 630, 645, 680]\n",
    "labels = [\"<$585\", \"$585-630\", \"$630-645\", \"$645-680\"]"
   ]
  },
  {
   "cell_type": "code",
   "execution_count": null,
   "metadata": {},
   "outputs": [],
   "source": [
    "# Create a copy of the school summary since it has the \"Per Student Budget\" \n",
    "school_spending_df = per_school_summary.copy()"
   ]
  },
  {
   "cell_type": "code",
   "execution_count": null,
   "metadata": {},
   "outputs": [],
   "source": [
    "# Use `pd.cut` to categorize spending based on the bins.\n",
    "school_spending_df[\"Spending Ranges (Per Student)\"] = \n",
    "school_spending_df"
   ]
  },
  {
   "cell_type": "code",
   "execution_count": null,
   "metadata": {},
   "outputs": [],
   "source": [
    "#  Calculate averages for the desired columns. \n",
    "spending_math_scores = school_spending_df.groupby([\"Spending Ranges (Per Student)\"])[\"Average Math Score\"].mean()\n",
    "spending_reading_scores = school_spending_df.groupby([\"Spending Ranges (Per Student)\"])[\"Average Reading Score\"].mean()\n",
    "spending_passing_math = school_spending_df.groupby([\"Spending Ranges (Per Student)\"])[\"% Passing Math\"].mean()\n",
    "spending_passing_reading = school_spending_df.groupby([\"Spending Ranges (Per Student)\"])[\"% Passing Reading\"].mean()\n",
    "overall_passing_spending = school_spending_df.groupby([\"Spending Ranges (Per Student)\"])[\"% Overall Passing\"].mean()"
   ]
  },
  {
   "cell_type": "code",
   "execution_count": null,
   "metadata": {},
   "outputs": [],
   "source": [
    "# Assemble into DataFrame\n",
    "spending_summary = \n",
    "\n",
    "# Display results\n",
    "spending_summary"
   ]
  },
  {
   "cell_type": "markdown",
   "metadata": {},
   "source": [
    "## Scores by School Size"
   ]
  },
  {
   "cell_type": "code",
   "execution_count": null,
   "metadata": {},
   "outputs": [],
   "source": [
    "# Establish the bins.\n",
    "size_bins = [0, 1000, 2000, 5000]\n",
    "labels = [\"Small (<1000)\", \"Medium (1000-2000)\", \"Large (2000-5000)\"]"
   ]
  },
  {
   "cell_type": "code",
   "execution_count": null,
   "metadata": {},
   "outputs": [],
   "source": [
    "# Categorize the spending based on the bins\n",
    "# Use `pd.cut` on the \"Total Students\" column of the `per_school_summary` DataFrame.\n",
    "\n",
    "per_school_summary[\"School Size\"] = \n",
    "per_school_summary"
   ]
  },
  {
   "cell_type": "code",
   "execution_count": null,
   "metadata": {},
   "outputs": [],
   "source": [
    "# Calculate averages for the desired columns. \n",
    "size_math_scores = per_school_summary.groupby([\"School Size\"])[\"Average Math Score\"].mean()\n",
    "size_reading_scores = per_school_summary.groupby([\"School Size\"])[\"Average Reading Score\"].mean()\n",
    "size_passing_math = per_school_summary.groupby([\"School Size\"])[\"% Passing Math\"].mean()\n",
    "size_passing_reading = per_school_summary.groupby([\"School Size\"])[\"% Passing Reading\"].mean()\n",
    "size_overall_passing = per_school_summary.groupby([\"School Size\"])[\"% Overall Passing\"].mean()"
   ]
  },
  {
   "cell_type": "code",
   "execution_count": null,
   "metadata": {
    "scrolled": true
   },
   "outputs": [],
   "source": [
    "# Create a DataFrame called `size_summary` that breaks down school performance based on school size (small, medium, or large).\n",
    "# Use the scores above to create a new DataFrame called `size_summary`\n",
    "size_summary = \n",
    "\n",
    "# Display results\n",
    "size_summary"
   ]
  },
  {
   "cell_type": "markdown",
   "metadata": {},
   "source": [
    "## Scores by School Type"
   ]
  },
  {
   "cell_type": "code",
   "execution_count": null,
   "metadata": {},
   "outputs": [],
   "source": [
    "# Group the per_school_summary DataFrame by \"School Type\" and average the results.\n",
    "average_math_score_by_type = per_school_summary.groupby([\"School Type\"])[\"Average Math Score\"].mean()\n",
    "average_reading_score_by_type = per_school_summary.groupby([\"School Type\"])[\"Average Reading Score\"].mean()\n",
    "average_percent_passing_math_by_type = per_school_summary.groupby([\"School Type\"])[\"% Passing Math\"].mean()\n",
    "average_percent_passing_reading_by_type = per_school_summary.groupby([\"School Type\"])[\"% Passing Reading\"].mean()\n",
    "average_percent_overall_passing_by_type = per_school_summary.groupby([\"School Type\"])[\"% Overall Passing\"].mean()"
   ]
  },
  {
   "cell_type": "code",
   "execution_count": null,
   "metadata": {},
   "outputs": [],
   "source": [
    "# Assemble the new data by type into a DataFrame called `type_summary`\n",
    "type_summary = \n",
    "\n",
    "# Display results\n",
    "type_summary"
   ]
  },
  {
   "cell_type": "code",
   "execution_count": null,
   "metadata": {},
   "outputs": [],
   "source": []
  }
 ],
 "metadata": {
  "anaconda-cloud": {},
  "kernel_info": {
   "name": "python3"
  },
  "kernelspec": {
   "display_name": "PythonData",
   "language": "python",
   "name": "python3"
  },
  "language_info": {
   "codemirror_mode": {
    "name": "ipython",
    "version": 3
   },
   "file_extension": ".py",
   "mimetype": "text/x-python",
   "name": "python",
   "nbconvert_exporter": "python",
   "pygments_lexer": "ipython3",
   "version": "3.10.13"
  },
  "latex_envs": {
   "LaTeX_envs_menu_present": true,
   "autoclose": false,
   "autocomplete": true,
   "bibliofile": "biblio.bib",
   "cite_by": "apalike",
   "current_citInitial": 1,
   "eqLabelWithNumbers": true,
   "eqNumInitial": 1,
   "hotkeys": {
    "equation": "Ctrl-E",
    "itemize": "Ctrl-I"
   },
   "labels_anchors": false,
   "latex_user_defs": false,
   "report_style_numbering": false,
   "user_envs_cfg": false
  },
  "nteract": {
   "version": "0.8.4"
  },
  "vscode": {
   "interpreter": {
    "hash": "5384d77d82de63fd599f73e77f9ec786e7719288bf80a29ec0288c670ac3cf32"
   }
  }
 },
 "nbformat": 4,
 "nbformat_minor": 4
}
